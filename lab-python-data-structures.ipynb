{
 "cells": [
  {
   "cell_type": "markdown",
   "metadata": {
    "tags": []
   },
   "source": [
    "# Lab | Data Structures "
   ]
  },
  {
   "cell_type": "markdown",
   "metadata": {},
   "source": [
    "## Exercise: Managing Customer Orders\n",
    "\n",
    "As part of a business venture, you are starting an online store that sells various products. To ensure smooth operations, you need to develop a program that manages customer orders and inventory.\n",
    "\n",
    "Follow the steps below to complete the exercise:\n",
    "\n",
    "1. Define a list called `products` that contains the following items: \"t-shirt\", \"mug\", \"hat\", \"book\", \"keychain\".\n",
    "\n",
    "2. Create an empty dictionary called `inventory`.\n",
    "\n",
    "3. Ask the user to input the quantity of each product available in the inventory. Use the product names from the `products` list as keys in the `inventory` dictionary and assign the respective quantities as values.\n",
    "\n",
    "4. Create an empty set called `customer_orders`.\n",
    "\n",
    "5. Ask the user to input the name of three products that a customer wants to order (from those in the products list, meaning three products out of \"t-shirt\", \"mug\", \"hat\", \"book\" or \"keychain\". Add each product name to the `customer_orders` set.\n",
    "\n",
    "6. Print the products in the `customer_orders` set.\n",
    "\n",
    "7. Calculate the following order statistics:\n",
    "   - Total Products Ordered: The total number of products in the `customer_orders` set.\n",
    "   - Percentage of Products Ordered: The percentage of products ordered compared to the total available products.\n",
    "   \n",
    "   Store these statistics in a tuple called `order_status`.\n",
    "\n",
    "8. Print the order statistics using the following format:\n",
    "   ```\n",
    "   Order Statistics:\n",
    "   Total Products Ordered: <total_products_ordered>\n",
    "   Percentage of Products Ordered: <percentage_ordered>% \n",
    "   ```\n",
    "\n",
    "9. Update the inventory by subtracting 1 from the quantity of each product. Modify the `inventory` dictionary accordingly.\n",
    "\n",
    "10. Print the updated inventory, displaying the quantity of each product on separate lines.\n",
    "\n",
    "Solve the exercise by implementing the steps using the Python concepts of lists, dictionaries, sets, and basic input/output operations. "
   ]
  },
  {
   "cell_type": "code",
   "execution_count": 1,
   "metadata": {},
   "outputs": [
    {
     "name": "stdout",
     "output_type": "stream",
     "text": [
      "{'t-shirt': 20, 'mug': 40, 'hat': 3, 'book': 2, 'keychain': 10}\n",
      "{'hat', 'book', 'keychain'}\n",
      "3\n",
      "0.04\n",
      "(3, 0.04)\n",
      "{'t-shirt': 19, 'mug': 39, 'hat': 2, 'book': 1, 'keychain': 9}\n"
     ]
    }
   ],
   "source": [
    "products=[\"t-shirt\",\"mug\",\"hat\", \"book\", \"keychain\"] #. Define a list called `products` that contains the following items: \"t-shirt\", \"mug\", \"hat\", \"book\", \"keychain\".\n",
    "inventory= {} # Create an empty dictionary called `inventory`.\n",
    "tshiqty = int(input(\"Enter t-shirt quantity : \"))\n",
    "mugqty = int(input(\"Enter mug quantity : \"))\n",
    "hatqty = int(input(\"Enter hat quantity : \"))\n",
    "booqty = int(input(\"Enter book quantity : \"))\n",
    "chaqty = int(input(\"Enter keychain quantity : \")) #. Ask the user to input the quantity of each product available in the inventory. \n",
    "inventory= {products[0]:tshiqty,products[1]:mugqty,products[2]:hatqty,products[3]:booqty,products[4]:chaqty} #Use the product names from the `products` list as keys in the `inventory` dictionary and assign the respective quantities as values.\n",
    "\n",
    "customer_orders=set() #4. Create an empty set called `customer_orders`.\n",
    "\n",
    "pro_1 = input(\"Enter one of these: t-shirt, mug, hat, book, keychain: \")\n",
    "pro_2 = input(\"Enter one of these: t-shirt, mug, hat, book, keychain: \")\n",
    "pro_3 = input(\"Enter one of these: t-shirt, mug, hat, book, keychain: \") #5. Ask the user to input the name of three products that a customer wants to order (from those in the products list, meaning three products out of \"t-shirt\", \"mug\", \"hat\", \"book\" or \"keychain\".\n",
    "customer_orders.add(pro_1)\n",
    "customer_orders.add(pro_2)\n",
    "customer_orders.add(pro_3) #Add each product name to the `customer_orders` set.\n",
    "\n",
    "print(inventory)\n",
    "print(customer_orders) #Print the products in the `customer_orders` set.\n",
    "\n",
    "totalorders= len(customer_orders)\n",
    "#totalavailable=len(inventory) (not working cos is always 5)\n",
    "totalavailable=sum(inventory.values())\n",
    "percentageordered=totalorders/totalavailable\n",
    "order_status = (totalorders, percentageordered)#Calculate the order statistics\n",
    "\n",
    "\n",
    "print(totalorders)\n",
    "print(percentageordered)\n",
    "print(order_status) # Print the order statistics \n",
    "\n",
    "\n",
    "for product in inventory:           \n",
    "        inventory[product] -= 1 #9. Update the inventory by subtracting 1 from the quantity of each product. Modify the `inventory` dictionary accordingly.\n",
    "\n",
    "print(inventory) #10. Print the updated inventory\n"
   ]
  },
  {
   "cell_type": "code",
   "execution_count": null,
   "metadata": {},
   "outputs": [],
   "source": []
  }
 ],
 "metadata": {
  "kernelspec": {
   "display_name": "Python 3",
   "language": "python",
   "name": "python3"
  },
  "language_info": {
   "codemirror_mode": {
    "name": "ipython",
    "version": 3
   },
   "file_extension": ".py",
   "mimetype": "text/x-python",
   "name": "python",
   "nbconvert_exporter": "python",
   "pygments_lexer": "ipython3",
   "version": "3.13.7"
  }
 },
 "nbformat": 4,
 "nbformat_minor": 4
}
